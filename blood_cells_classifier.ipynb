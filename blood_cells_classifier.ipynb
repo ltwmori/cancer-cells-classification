{
  "nbformat": 4,
  "nbformat_minor": 0,
  "metadata": {
    "colab": {
      "name": "blood_cells_classifier.ipynb",
      "provenance": [],
      "collapsed_sections": []
    },
    "kernelspec": {
      "name": "python3",
      "display_name": "Python 3"
    },
    "language_info": {
      "name": "python"
    },
    "accelerator": "GPU"
  },
  "cells": [
    {
      "cell_type": "code",
      "metadata": {
        "id": "dtnhlj7MNcHd",
        "colab": {
          "base_uri": "https://localhost:8080/"
        },
        "outputId": "43dc29b4-a1d8-422b-e37a-14a4c22a8963"
      },
      "source": [
        "from google.colab import drive\n",
        "drive.mount('/content/gdrive', force_remount=True)"
      ],
      "execution_count": null,
      "outputs": [
        {
          "output_type": "stream",
          "text": [
            "Mounted at /content/gdrive\n"
          ],
          "name": "stdout"
        }
      ]
    },
    {
      "cell_type": "code",
      "metadata": {
        "colab": {
          "base_uri": "https://localhost:8080/"
        },
        "id": "BMkbp1I5_e-7",
        "outputId": "7ffe398b-6d15-4581-fe09-f1adc76a453c"
      },
      "source": [
        "!fusermount -u drive\n",
        "!google-drive-ocamlfuse drive"
      ],
      "execution_count": null,
      "outputs": [
        {
          "output_type": "stream",
          "text": [
            "/bin/bash: google-drive-ocamlfuse: command not found\n"
          ],
          "name": "stdout"
        }
      ]
    },
    {
      "cell_type": "code",
      "metadata": {
        "colab": {
          "base_uri": "https://localhost:8080/"
        },
        "id": "L4wwFl_z7jL8",
        "outputId": "0c2c2321-9330-4be5-f2e0-5e1a746165bc"
      },
      "source": [
        "%cd /content/gdrive/MyDrive/projects"
      ],
      "execution_count": null,
      "outputs": [
        {
          "output_type": "stream",
          "text": [
            "/content/gdrive/MyDrive/projects\n"
          ],
          "name": "stdout"
        }
      ]
    },
    {
      "cell_type": "code",
      "metadata": {
        "id": "ZyBgknrA7dH8"
      },
      "source": [
        "!mkdir cancer\n",
        "!mv cancer.zip cancer"
      ],
      "execution_count": null,
      "outputs": []
    },
    {
      "cell_type": "code",
      "metadata": {
        "colab": {
          "base_uri": "https://localhost:8080/"
        },
        "id": "HHDLv8Bv70zM",
        "outputId": "d0c5b728-5c2b-4441-8a25-8e2f59ce794a"
      },
      "source": [
        "%cd cancer/"
      ],
      "execution_count": null,
      "outputs": [
        {
          "output_type": "stream",
          "text": [
            "/content/gdrive/My Drive/projects/cancer\n"
          ],
          "name": "stdout"
        }
      ]
    },
    {
      "cell_type": "code",
      "metadata": {
        "id": "dJklqF8k73e0"
      },
      "source": [
        "!unzip cancer.zip"
      ],
      "execution_count": null,
      "outputs": []
    },
    {
      "cell_type": "code",
      "metadata": {
        "id": "TttwGJ5IOMfS"
      },
      "source": [
        "import os\n",
        "import matplotlib.pyplot as plt\n",
        "import tensorflow as tf\n",
        "\n",
        "from tensorflow.keras import layers\n",
        "from tensorflow.keras import Model\n",
        "\n",
        "from tensorflow.keras.applications.inception_v3 import InceptionV3\n",
        "from tensorflow.keras.preprocessing.image import ImageDataGenerator\n",
        "from tensorflow.keras.optimizers import RMSprop\n",
        "from keras.models import Sequential\n",
        "from tensorflow.keras.layers import Conv2D\n",
        "from tensorflow.keras.layers import MaxPooling2D\n",
        "from tensorflow.keras.layers import Dropout\n",
        "from tensorflow.keras.layers import Flatten\n",
        "from tensorflow.keras.layers import Dense"
      ],
      "execution_count": null,
      "outputs": []
    },
    {
      "cell_type": "code",
      "metadata": {
        "id": "DajpVuN1Qluy"
      },
      "source": [
        "base_dir = '/content/drive/My Drive/projects/cancer'\n",
        "\n",
        "train_dir = os.path.join(base_dir, 'fold_0')\n",
        "val_dir = os.path.join(base_dir, 'fold_1')\n",
        "\n",
        "no_train_dir = os.path.join(train_dir, 'hem')\n",
        "no_val_dir = os.path.join(val_dir, 'hem')"
      ],
      "execution_count": null,
      "outputs": []
    },
    {
      "cell_type": "code",
      "metadata": {
        "colab": {
          "base_uri": "https://localhost:8080/"
        },
        "id": "SXjj6v7xBAmB",
        "outputId": "6a73382c-945a-46f5-84b2-bc0bfd227de0"
      },
      "source": [
        "from tensorflow.keras.preprocessing.image import ImageDataGenerator\n",
        "rescaled = ImageDataGenerator(1/255)\n",
        "train_fed = rescaled.flow_from_directory('/content/gdrive/MyDrive/projects/cancer/fold_0/fold_0', target_size = (128,128), batch_size=32, class_mode='categorical')\n",
        "test_fed = rescaled.flow_from_directory('/content/gdrive/MyDrive/projects/cancer/fold_1/fold_1', target_size = (128,128), batch_size=32, class_mode='categorical')"
      ],
      "execution_count": null,
      "outputs": [
        {
          "output_type": "stream",
          "text": [
            "Found 3527 images belonging to 2 classes.\n",
            "Found 3158 images belonging to 2 classes.\n"
          ],
          "name": "stdout"
        }
      ]
    },
    {
      "cell_type": "code",
      "metadata": {
        "id": "4SfBmg-2ffFD"
      },
      "source": [
        "model = Sequential()\n",
        "model.add(Conv2D(16, 3, activation='relu', input_shape=(128,128,3,)))\n",
        "model.add(MaxPooling2D(pool_size=2))\n",
        "\n",
        "model.add(Conv2D(32, 3, activation = 'relu'))\n",
        "model.add(MaxPooling2D(pool_size=2))\n",
        "\n",
        "model.add(Conv2D(64, 3, activation = 'relu'))\n",
        "model.add(MaxPooling2D(pool_size=2))\n",
        "\n",
        "model.add(Conv2D(128, 3, activation = 'relu'))\n",
        "model.add(MaxPooling2D(pool_size=2))\n",
        "\n",
        "model.add(Flatten())\n",
        "\n",
        "model.add(Dense(128, activation='relu'))\n",
        "model.add(Dropout(0.5))\n",
        "model.add(Dense(2, activation='softmax'))\n",
        "\n",
        "model.compile(loss='categorical_crossentropy', optimizer='Adam', metrics = ['accuracy'])\n"
      ],
      "execution_count": null,
      "outputs": []
    },
    {
      "cell_type": "code",
      "metadata": {
        "colab": {
          "base_uri": "https://localhost:8080/"
        },
        "id": "WysGMsOWDneC",
        "outputId": "ae15c2ed-594e-4b9f-de8b-82b85c9cafd5"
      },
      "source": [
        "model.summary()"
      ],
      "execution_count": null,
      "outputs": [
        {
          "output_type": "stream",
          "text": [
            "Model: \"sequential\"\n",
            "_________________________________________________________________\n",
            "Layer (type)                 Output Shape              Param #   \n",
            "=================================================================\n",
            "conv2d (Conv2D)              (None, 126, 126, 16)      448       \n",
            "_________________________________________________________________\n",
            "max_pooling2d (MaxPooling2D) (None, 63, 63, 16)        0         \n",
            "_________________________________________________________________\n",
            "conv2d_1 (Conv2D)            (None, 61, 61, 32)        4640      \n",
            "_________________________________________________________________\n",
            "max_pooling2d_1 (MaxPooling2 (None, 30, 30, 32)        0         \n",
            "_________________________________________________________________\n",
            "conv2d_2 (Conv2D)            (None, 28, 28, 64)        18496     \n",
            "_________________________________________________________________\n",
            "max_pooling2d_2 (MaxPooling2 (None, 14, 14, 64)        0         \n",
            "_________________________________________________________________\n",
            "conv2d_3 (Conv2D)            (None, 12, 12, 128)       73856     \n",
            "_________________________________________________________________\n",
            "max_pooling2d_3 (MaxPooling2 (None, 6, 6, 128)         0         \n",
            "_________________________________________________________________\n",
            "flatten (Flatten)            (None, 4608)              0         \n",
            "_________________________________________________________________\n",
            "dense (Dense)                (None, 128)               589952    \n",
            "_________________________________________________________________\n",
            "dropout (Dropout)            (None, 128)               0         \n",
            "_________________________________________________________________\n",
            "dense_1 (Dense)              (None, 2)                 258       \n",
            "=================================================================\n",
            "Total params: 687,650\n",
            "Trainable params: 687,650\n",
            "Non-trainable params: 0\n",
            "_________________________________________________________________\n"
          ],
          "name": "stdout"
        }
      ]
    },
    {
      "cell_type": "code",
      "metadata": {
        "id": "mgZhNVsEEITw"
      },
      "source": [
        "from keras.callbacks import EarlyStopping, ModelCheckpoint, ReduceLROnPlateau\n",
        "import h5py"
      ],
      "execution_count": null,
      "outputs": []
    },
    {
      "cell_type": "code",
      "metadata": {
        "id": "8lDjNzAQEUda"
      },
      "source": [
        "erl_stop = EarlyStopping(monitor = 'val_loss', patience = 6, restore_best_weights=True)\n",
        "mod_check = ModelCheckpoint(filepath='/content/gdrive/MyDrive/projects/cancer', monitor='val_loss', save_best_only=True)\n",
        "lr_rate = ReduceLROnPlateau(monitor='val_loss', patience=3, factor=0.1)"
      ],
      "execution_count": null,
      "outputs": []
    },
    {
      "cell_type": "code",
      "metadata": {
        "colab": {
          "base_uri": "https://localhost:8080/"
        },
        "id": "dxeEi0uEE48B",
        "outputId": "d180cc02-369f-406e-aa3b-5ef50495e5fb"
      },
      "source": [
        "history = model.fit_generator(train_fed, shuffle=True, epochs=20, validation_data=test_fed, callbacks=[erl_stop, mod_check, lr_rate], verbose=2)"
      ],
      "execution_count": null,
      "outputs": [
        {
          "output_type": "stream",
          "text": [
            "/usr/local/lib/python3.7/dist-packages/tensorflow/python/keras/engine/training.py:1844: UserWarning: `Model.fit_generator` is deprecated and will be removed in a future version. Please use `Model.fit`, which supports generators.\n",
            "  warnings.warn('`Model.fit_generator` is deprecated and '\n",
            "/usr/local/lib/python3.7/dist-packages/keras_preprocessing/image/image_data_generator.py:720: UserWarning: This ImageDataGenerator specifies `featurewise_center`, but it hasn't been fit on any training data. Fit it first by calling `.fit(numpy_data)`.\n",
            "  warnings.warn('This ImageDataGenerator specifies '\n"
          ],
          "name": "stderr"
        },
        {
          "output_type": "stream",
          "text": [
            "Epoch 1/20\n",
            "111/111 - 6813s - loss: 0.9313 - accuracy: 0.7882 - val_loss: 0.3823 - val_accuracy: 0.8385\n",
            "INFO:tensorflow:Assets written to: /content/gdrive/MyDrive/projects/cancer/assets\n",
            "Epoch 2/20\n"
          ],
          "name": "stdout"
        },
        {
          "output_type": "stream",
          "text": [
            "/usr/local/lib/python3.7/dist-packages/keras_preprocessing/image/image_data_generator.py:720: UserWarning: This ImageDataGenerator specifies `featurewise_center`, but it hasn't been fit on any training data. Fit it first by calling `.fit(numpy_data)`.\n",
            "  warnings.warn('This ImageDataGenerator specifies '\n"
          ],
          "name": "stderr"
        },
        {
          "output_type": "stream",
          "text": [
            "111/111 - 93s - loss: 0.4406 - accuracy: 0.8183 - val_loss: 0.3794 - val_accuracy: 0.8445\n",
            "INFO:tensorflow:Assets written to: /content/gdrive/MyDrive/projects/cancer/assets\n",
            "Epoch 3/20\n"
          ],
          "name": "stdout"
        },
        {
          "output_type": "stream",
          "text": [
            "/usr/local/lib/python3.7/dist-packages/keras_preprocessing/image/image_data_generator.py:720: UserWarning: This ImageDataGenerator specifies `featurewise_center`, but it hasn't been fit on any training data. Fit it first by calling `.fit(numpy_data)`.\n",
            "  warnings.warn('This ImageDataGenerator specifies '\n"
          ],
          "name": "stderr"
        },
        {
          "output_type": "stream",
          "text": [
            "111/111 - 34s - loss: 0.4330 - accuracy: 0.8228 - val_loss: 0.3831 - val_accuracy: 0.8471\n",
            "Epoch 4/20\n",
            "111/111 - 22s - loss: 0.4120 - accuracy: 0.8296 - val_loss: 0.3670 - val_accuracy: 0.8474\n",
            "INFO:tensorflow:Assets written to: /content/gdrive/MyDrive/projects/cancer/assets\n",
            "Epoch 5/20\n"
          ],
          "name": "stdout"
        },
        {
          "output_type": "stream",
          "text": [
            "/usr/local/lib/python3.7/dist-packages/keras_preprocessing/image/image_data_generator.py:720: UserWarning: This ImageDataGenerator specifies `featurewise_center`, but it hasn't been fit on any training data. Fit it first by calling `.fit(numpy_data)`.\n",
            "  warnings.warn('This ImageDataGenerator specifies '\n"
          ],
          "name": "stderr"
        },
        {
          "output_type": "stream",
          "text": [
            "111/111 - 22s - loss: 0.3675 - accuracy: 0.8520 - val_loss: 0.3465 - val_accuracy: 0.8585\n",
            "INFO:tensorflow:Assets written to: /content/gdrive/MyDrive/projects/cancer/assets\n",
            "Epoch 6/20\n"
          ],
          "name": "stdout"
        },
        {
          "output_type": "stream",
          "text": [
            "/usr/local/lib/python3.7/dist-packages/keras_preprocessing/image/image_data_generator.py:720: UserWarning: This ImageDataGenerator specifies `featurewise_center`, but it hasn't been fit on any training data. Fit it first by calling `.fit(numpy_data)`.\n",
            "  warnings.warn('This ImageDataGenerator specifies '\n"
          ],
          "name": "stderr"
        },
        {
          "output_type": "stream",
          "text": [
            "111/111 - 22s - loss: 0.3270 - accuracy: 0.8659 - val_loss: 0.5097 - val_accuracy: 0.7983\n",
            "Epoch 7/20\n",
            "111/111 - 21s - loss: 0.3103 - accuracy: 0.8721 - val_loss: 0.3482 - val_accuracy: 0.8642\n",
            "Epoch 8/20\n",
            "111/111 - 21s - loss: 0.2765 - accuracy: 0.8897 - val_loss: 0.3524 - val_accuracy: 0.8654\n",
            "Epoch 9/20\n",
            "111/111 - 22s - loss: 0.2109 - accuracy: 0.9144 - val_loss: 0.3531 - val_accuracy: 0.8686\n",
            "Epoch 10/20\n",
            "111/111 - 21s - loss: 0.1636 - accuracy: 0.9351 - val_loss: 0.4048 - val_accuracy: 0.8594\n",
            "Epoch 11/20\n",
            "111/111 - 22s - loss: 0.1379 - accuracy: 0.9490 - val_loss: 0.3948 - val_accuracy: 0.8578\n"
          ],
          "name": "stdout"
        }
      ]
    },
    {
      "cell_type": "code",
      "metadata": {
        "colab": {
          "base_uri": "https://localhost:8080/",
          "height": 318
        },
        "id": "eGcrky1Eroih",
        "outputId": "9ebf5516-84c3-42c2-c8d7-079be257edc2"
      },
      "source": [
        "plt.plot(history.history['loss'], color = 'blue', label = 'train')\n",
        "plt.plot(history.history['val_loss'], color='orange', label='train')\n",
        "plt.grid(True)\n",
        "plt.title(\"Train and test loss with epochs\\n\", fontsize = 16)\n",
        "plt.xlabel(\"Training epochs\", fontsize=12)\n",
        "plt.ylabel(\"Train and test loss\", fontsize = 12)\n",
        "plt.show()"
      ],
      "execution_count": null,
      "outputs": [
        {
          "output_type": "display_data",
          "data": {
            "image/png": "[encoded data removed]",
            "text/plain": [
              "<Figure size 432x288 with 1 Axes>"
            ]
          },
          "metadata": {
            "tags": [],
            "needs_background": "light"
          }
        }
      ]
    },
    {
      "cell_type": "code",
      "metadata": {
        "colab": {
          "base_uri": "https://localhost:8080/",
          "height": 318
        },
        "id": "SBD-ksxUruiY",
        "outputId": "bf333b60-77fd-4344-fa59-b48f063db5ce"
      },
      "source": [
        "plt.plot(history.history['accuracy'], color = 'blue', label = 'train')\n",
        "plt.plot(history.history['val_accuracy'], color='orange', label='train')\n",
        "plt.grid(True)\n",
        "plt.title(\"Train and test accuracy with epochs\\n\", fontsize = 16)\n",
        "plt.xlabel(\"Training epochs\", fontsize=12)\n",
        "plt.ylabel(\"Train and test accuracy\", fontsize = 12)\n",
        "plt.show()"
      ],
      "execution_count": null,
      "outputs": [
        {
          "output_type": "display_data",
          "data": {
            "image/png": "[encoded data removed]",
            "text/plain": [
              "<Figure size 432x288 with 1 Axes>"
            ]
          },
          "metadata": {
            "tags": [],
            "needs_background": "light"
          }
        }
      ]
    },
    {
      "cell_type": "code",
      "metadata": {
        "colab": {
          "base_uri": "https://localhost:8080/"
        },
        "id": "P_1R-Opbt3JW",
        "outputId": "1b6629f0-43ab-4dc0-bf07-13ca2227c207"
      },
      "source": [
        "acc = model.evaluate(test_fed, steps = len(test_fed), verbose = 2)\n",
        "print('%.2f'%(acc[1]*100))"
      ],
      "execution_count": null,
      "outputs": [
        {
          "output_type": "stream",
          "text": [
            "/usr/local/lib/python3.7/dist-packages/keras_preprocessing/image/image_data_generator.py:720: UserWarning: This ImageDataGenerator specifies `featurewise_center`, but it hasn't been fit on any training data. Fit it first by calling `.fit(numpy_data)`.\n",
            "  warnings.warn('This ImageDataGenerator specifies '\n"
          ],
          "name": "stderr"
        },
        {
          "output_type": "stream",
          "text": [
            "99/99 - 10s - loss: 0.3465 - accuracy: 0.8585\n",
            "85.85\n"
          ],
          "name": "stdout"
        }
      ]
    }
  ]
}